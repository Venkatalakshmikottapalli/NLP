{
  "nbformat": 4,
  "nbformat_minor": 0,
  "metadata": {
    "colab": {
      "provenance": [],
      "include_colab_link": true
    },
    "kernelspec": {
      "name": "python3",
      "display_name": "Python 3"
    }
  },
  "cells": [
    {
      "cell_type": "markdown",
      "metadata": {
        "id": "view-in-github",
        "colab_type": "text"
      },
      "source": [
        "<a href=\"https://colab.research.google.com/github/Venkatalakshmikottapalli/NLP/blob/main/V_Kottapalli_NLP_Assn3_Part2.ipynb\" target=\"_parent\"><img src=\"https://colab.research.google.com/assets/colab-badge.svg\" alt=\"Open In Colab\"/></a>"
      ]
    },
    {
      "metadata": {
        "id": "8n2QqmjC0esQ"
      },
      "cell_type": "markdown",
      "source": [
        "# Word2Vec Application Tutorial\n",
        "\n",
        "**Note: This tutorial is provided by Google Research.**\n",
        "\n",
        "\n",
        "In this tutorial, we go over basic operations on word vectors. There are many Natural Language Processing (NLP) libraries in Python, such as [NLTK](https://www.nltk.org/), [gensim](https://radimrehurek.com/gensim/), and [spaCy](https://spacy.io/). All of them have their own strength and focus. NLTK is one of the first comprehensive Python libraries for computational linguistics and has a big community. If you have worked on NLP, you probably have heard of it or used it. Gensim is a popular library for topic modeling. It also provides many functionalities similar to NLTK. It supports word embeddings and you can even train word embeddings using gensim. SpaCy is another popular NLP library and it provides built-in support for word vectors. We will use spaCy in this tutorial.  \\\\\n",
        "<br>\n",
        "You will learn:\n",
        "\n",
        "\n",
        "1.   Popular Python machine learning packages (spaCy, sklearn)\n",
        "2.   Calculating word similarity using Word2Vec model\n",
        "3.   Word analogy analysis\n",
        "4.   Calculating sentence similarity using Word2Vec model\n",
        "5.   Dimension reduction techniques for high-dimensional vectors\n",
        "6.   Visualizing Word2Vec in 2D space\n",
        "7.   Sentiment analysis using logistic regression and Word2Vec\n",
        "\n"
      ]
    },
    {
      "metadata": {
        "id": "0fymQg_Q068-"
      },
      "cell_type": "markdown",
      "source": [
        "### Preliminary\n",
        "First, let's install the spaCy Python library and download their model for the English language. We only need to do it once. Then we can import the spaCy library and other useful libraries such as numpy (used for linear algebra and vector operations in Python). We can load our downloaded English model in our environment."
      ]
    },
    {
      "metadata": {
        "id": "7VJCepyC9ZbX",
        "colab": {
          "base_uri": "https://localhost:8080/"
        },
        "outputId": "04d1050c-55a1-4d84-be0c-ecb6f35be6ad"
      },
      "cell_type": "code",
      "source": [
        "# Only needs to be run once at the top of the notebook\n",
        "!pip install spacy\n",
        "!python -m spacy download en_core_web_lg"
      ],
      "execution_count": null,
      "outputs": [
        {
          "output_type": "stream",
          "name": "stdout",
          "text": [
            "Requirement already satisfied: spacy in /usr/local/lib/python3.10/dist-packages (3.7.5)\n",
            "Requirement already satisfied: spacy-legacy<3.1.0,>=3.0.11 in /usr/local/lib/python3.10/dist-packages (from spacy) (3.0.12)\n",
            "Requirement already satisfied: spacy-loggers<2.0.0,>=1.0.0 in /usr/local/lib/python3.10/dist-packages (from spacy) (1.0.5)\n",
            "Requirement already satisfied: murmurhash<1.1.0,>=0.28.0 in /usr/local/lib/python3.10/dist-packages (from spacy) (1.0.10)\n",
            "Requirement already satisfied: cymem<2.1.0,>=2.0.2 in /usr/local/lib/python3.10/dist-packages (from spacy) (2.0.8)\n",
            "Requirement already satisfied: preshed<3.1.0,>=3.0.2 in /usr/local/lib/python3.10/dist-packages (from spacy) (3.0.9)\n",
            "Requirement already satisfied: thinc<8.3.0,>=8.2.2 in /usr/local/lib/python3.10/dist-packages (from spacy) (8.2.5)\n",
            "Requirement already satisfied: wasabi<1.2.0,>=0.9.1 in /usr/local/lib/python3.10/dist-packages (from spacy) (1.1.3)\n",
            "Requirement already satisfied: srsly<3.0.0,>=2.4.3 in /usr/local/lib/python3.10/dist-packages (from spacy) (2.4.8)\n",
            "Requirement already satisfied: catalogue<2.1.0,>=2.0.6 in /usr/local/lib/python3.10/dist-packages (from spacy) (2.0.10)\n",
            "Requirement already satisfied: weasel<0.5.0,>=0.1.0 in /usr/local/lib/python3.10/dist-packages (from spacy) (0.4.1)\n",
            "Requirement already satisfied: typer<1.0.0,>=0.3.0 in /usr/local/lib/python3.10/dist-packages (from spacy) (0.12.3)\n",
            "Requirement already satisfied: tqdm<5.0.0,>=4.38.0 in /usr/local/lib/python3.10/dist-packages (from spacy) (4.66.4)\n",
            "Requirement already satisfied: requests<3.0.0,>=2.13.0 in /usr/local/lib/python3.10/dist-packages (from spacy) (2.31.0)\n",
            "Requirement already satisfied: pydantic!=1.8,!=1.8.1,<3.0.0,>=1.7.4 in /usr/local/lib/python3.10/dist-packages (from spacy) (2.8.0)\n",
            "Requirement already satisfied: jinja2 in /usr/local/lib/python3.10/dist-packages (from spacy) (3.1.4)\n",
            "Requirement already satisfied: setuptools in /usr/local/lib/python3.10/dist-packages (from spacy) (67.7.2)\n",
            "Requirement already satisfied: packaging>=20.0 in /usr/local/lib/python3.10/dist-packages (from spacy) (24.1)\n",
            "Requirement already satisfied: langcodes<4.0.0,>=3.2.0 in /usr/local/lib/python3.10/dist-packages (from spacy) (3.4.0)\n",
            "Requirement already satisfied: numpy>=1.19.0 in /usr/local/lib/python3.10/dist-packages (from spacy) (1.25.2)\n",
            "Requirement already satisfied: language-data>=1.2 in /usr/local/lib/python3.10/dist-packages (from langcodes<4.0.0,>=3.2.0->spacy) (1.2.0)\n",
            "Requirement already satisfied: annotated-types>=0.4.0 in /usr/local/lib/python3.10/dist-packages (from pydantic!=1.8,!=1.8.1,<3.0.0,>=1.7.4->spacy) (0.7.0)\n",
            "Requirement already satisfied: pydantic-core==2.20.0 in /usr/local/lib/python3.10/dist-packages (from pydantic!=1.8,!=1.8.1,<3.0.0,>=1.7.4->spacy) (2.20.0)\n",
            "Requirement already satisfied: typing-extensions>=4.6.1 in /usr/local/lib/python3.10/dist-packages (from pydantic!=1.8,!=1.8.1,<3.0.0,>=1.7.4->spacy) (4.12.2)\n",
            "Requirement already satisfied: charset-normalizer<4,>=2 in /usr/local/lib/python3.10/dist-packages (from requests<3.0.0,>=2.13.0->spacy) (3.3.2)\n",
            "Requirement already satisfied: idna<4,>=2.5 in /usr/local/lib/python3.10/dist-packages (from requests<3.0.0,>=2.13.0->spacy) (3.7)\n",
            "Requirement already satisfied: urllib3<3,>=1.21.1 in /usr/local/lib/python3.10/dist-packages (from requests<3.0.0,>=2.13.0->spacy) (2.0.7)\n",
            "Requirement already satisfied: certifi>=2017.4.17 in /usr/local/lib/python3.10/dist-packages (from requests<3.0.0,>=2.13.0->spacy) (2024.6.2)\n",
            "Requirement already satisfied: blis<0.8.0,>=0.7.8 in /usr/local/lib/python3.10/dist-packages (from thinc<8.3.0,>=8.2.2->spacy) (0.7.11)\n",
            "Requirement already satisfied: confection<1.0.0,>=0.0.1 in /usr/local/lib/python3.10/dist-packages (from thinc<8.3.0,>=8.2.2->spacy) (0.1.5)\n",
            "Requirement already satisfied: click>=8.0.0 in /usr/local/lib/python3.10/dist-packages (from typer<1.0.0,>=0.3.0->spacy) (8.1.7)\n",
            "Requirement already satisfied: shellingham>=1.3.0 in /usr/local/lib/python3.10/dist-packages (from typer<1.0.0,>=0.3.0->spacy) (1.5.4)\n",
            "Requirement already satisfied: rich>=10.11.0 in /usr/local/lib/python3.10/dist-packages (from typer<1.0.0,>=0.3.0->spacy) (13.7.1)\n",
            "Requirement already satisfied: cloudpathlib<1.0.0,>=0.7.0 in /usr/local/lib/python3.10/dist-packages (from weasel<0.5.0,>=0.1.0->spacy) (0.18.1)\n",
            "Requirement already satisfied: smart-open<8.0.0,>=5.2.1 in /usr/local/lib/python3.10/dist-packages (from weasel<0.5.0,>=0.1.0->spacy) (7.0.4)\n",
            "Requirement already satisfied: MarkupSafe>=2.0 in /usr/local/lib/python3.10/dist-packages (from jinja2->spacy) (2.1.5)\n",
            "Requirement already satisfied: marisa-trie>=0.7.7 in /usr/local/lib/python3.10/dist-packages (from language-data>=1.2->langcodes<4.0.0,>=3.2.0->spacy) (1.2.0)\n",
            "Requirement already satisfied: markdown-it-py>=2.2.0 in /usr/local/lib/python3.10/dist-packages (from rich>=10.11.0->typer<1.0.0,>=0.3.0->spacy) (3.0.0)\n",
            "Requirement already satisfied: pygments<3.0.0,>=2.13.0 in /usr/local/lib/python3.10/dist-packages (from rich>=10.11.0->typer<1.0.0,>=0.3.0->spacy) (2.16.1)\n",
            "Requirement already satisfied: wrapt in /usr/local/lib/python3.10/dist-packages (from smart-open<8.0.0,>=5.2.1->weasel<0.5.0,>=0.1.0->spacy) (1.14.1)\n",
            "Requirement already satisfied: mdurl~=0.1 in /usr/local/lib/python3.10/dist-packages (from markdown-it-py>=2.2.0->rich>=10.11.0->typer<1.0.0,>=0.3.0->spacy) (0.1.2)\n",
            "Collecting en-core-web-lg==3.7.1\n",
            "  Downloading https://github.com/explosion/spacy-models/releases/download/en_core_web_lg-3.7.1/en_core_web_lg-3.7.1-py3-none-any.whl (587.7 MB)\n",
            "\u001b[2K     \u001b[90m━━━━━━━━━━━━━━━━━━━━━━━━━━━━━━━━━━━━━━━━\u001b[0m \u001b[32m587.7/587.7 MB\u001b[0m \u001b[31m1.7 MB/s\u001b[0m eta \u001b[36m0:00:00\u001b[0m\n",
            "\u001b[?25hRequirement already satisfied: spacy<3.8.0,>=3.7.2 in /usr/local/lib/python3.10/dist-packages (from en-core-web-lg==3.7.1) (3.7.5)\n",
            "Requirement already satisfied: spacy-legacy<3.1.0,>=3.0.11 in /usr/local/lib/python3.10/dist-packages (from spacy<3.8.0,>=3.7.2->en-core-web-lg==3.7.1) (3.0.12)\n",
            "Requirement already satisfied: spacy-loggers<2.0.0,>=1.0.0 in /usr/local/lib/python3.10/dist-packages (from spacy<3.8.0,>=3.7.2->en-core-web-lg==3.7.1) (1.0.5)\n",
            "Requirement already satisfied: murmurhash<1.1.0,>=0.28.0 in /usr/local/lib/python3.10/dist-packages (from spacy<3.8.0,>=3.7.2->en-core-web-lg==3.7.1) (1.0.10)\n",
            "Requirement already satisfied: cymem<2.1.0,>=2.0.2 in /usr/local/lib/python3.10/dist-packages (from spacy<3.8.0,>=3.7.2->en-core-web-lg==3.7.1) (2.0.8)\n",
            "Requirement already satisfied: preshed<3.1.0,>=3.0.2 in /usr/local/lib/python3.10/dist-packages (from spacy<3.8.0,>=3.7.2->en-core-web-lg==3.7.1) (3.0.9)\n",
            "Requirement already satisfied: thinc<8.3.0,>=8.2.2 in /usr/local/lib/python3.10/dist-packages (from spacy<3.8.0,>=3.7.2->en-core-web-lg==3.7.1) (8.2.5)\n",
            "Requirement already satisfied: wasabi<1.2.0,>=0.9.1 in /usr/local/lib/python3.10/dist-packages (from spacy<3.8.0,>=3.7.2->en-core-web-lg==3.7.1) (1.1.3)\n",
            "Requirement already satisfied: srsly<3.0.0,>=2.4.3 in /usr/local/lib/python3.10/dist-packages (from spacy<3.8.0,>=3.7.2->en-core-web-lg==3.7.1) (2.4.8)\n",
            "Requirement already satisfied: catalogue<2.1.0,>=2.0.6 in /usr/local/lib/python3.10/dist-packages (from spacy<3.8.0,>=3.7.2->en-core-web-lg==3.7.1) (2.0.10)\n",
            "Requirement already satisfied: weasel<0.5.0,>=0.1.0 in /usr/local/lib/python3.10/dist-packages (from spacy<3.8.0,>=3.7.2->en-core-web-lg==3.7.1) (0.4.1)\n",
            "Requirement already satisfied: typer<1.0.0,>=0.3.0 in /usr/local/lib/python3.10/dist-packages (from spacy<3.8.0,>=3.7.2->en-core-web-lg==3.7.1) (0.12.3)\n",
            "Requirement already satisfied: tqdm<5.0.0,>=4.38.0 in /usr/local/lib/python3.10/dist-packages (from spacy<3.8.0,>=3.7.2->en-core-web-lg==3.7.1) (4.66.4)\n",
            "Requirement already satisfied: requests<3.0.0,>=2.13.0 in /usr/local/lib/python3.10/dist-packages (from spacy<3.8.0,>=3.7.2->en-core-web-lg==3.7.1) (2.31.0)\n",
            "Requirement already satisfied: pydantic!=1.8,!=1.8.1,<3.0.0,>=1.7.4 in /usr/local/lib/python3.10/dist-packages (from spacy<3.8.0,>=3.7.2->en-core-web-lg==3.7.1) (2.8.0)\n",
            "Requirement already satisfied: jinja2 in /usr/local/lib/python3.10/dist-packages (from spacy<3.8.0,>=3.7.2->en-core-web-lg==3.7.1) (3.1.4)\n",
            "Requirement already satisfied: setuptools in /usr/local/lib/python3.10/dist-packages (from spacy<3.8.0,>=3.7.2->en-core-web-lg==3.7.1) (67.7.2)\n",
            "Requirement already satisfied: packaging>=20.0 in /usr/local/lib/python3.10/dist-packages (from spacy<3.8.0,>=3.7.2->en-core-web-lg==3.7.1) (24.1)\n",
            "Requirement already satisfied: langcodes<4.0.0,>=3.2.0 in /usr/local/lib/python3.10/dist-packages (from spacy<3.8.0,>=3.7.2->en-core-web-lg==3.7.1) (3.4.0)\n",
            "Requirement already satisfied: numpy>=1.19.0 in /usr/local/lib/python3.10/dist-packages (from spacy<3.8.0,>=3.7.2->en-core-web-lg==3.7.1) (1.25.2)\n",
            "Requirement already satisfied: language-data>=1.2 in /usr/local/lib/python3.10/dist-packages (from langcodes<4.0.0,>=3.2.0->spacy<3.8.0,>=3.7.2->en-core-web-lg==3.7.1) (1.2.0)\n",
            "Requirement already satisfied: annotated-types>=0.4.0 in /usr/local/lib/python3.10/dist-packages (from pydantic!=1.8,!=1.8.1,<3.0.0,>=1.7.4->spacy<3.8.0,>=3.7.2->en-core-web-lg==3.7.1) (0.7.0)\n",
            "Requirement already satisfied: pydantic-core==2.20.0 in /usr/local/lib/python3.10/dist-packages (from pydantic!=1.8,!=1.8.1,<3.0.0,>=1.7.4->spacy<3.8.0,>=3.7.2->en-core-web-lg==3.7.1) (2.20.0)\n",
            "Requirement already satisfied: typing-extensions>=4.6.1 in /usr/local/lib/python3.10/dist-packages (from pydantic!=1.8,!=1.8.1,<3.0.0,>=1.7.4->spacy<3.8.0,>=3.7.2->en-core-web-lg==3.7.1) (4.12.2)\n",
            "Requirement already satisfied: charset-normalizer<4,>=2 in /usr/local/lib/python3.10/dist-packages (from requests<3.0.0,>=2.13.0->spacy<3.8.0,>=3.7.2->en-core-web-lg==3.7.1) (3.3.2)\n",
            "Requirement already satisfied: idna<4,>=2.5 in /usr/local/lib/python3.10/dist-packages (from requests<3.0.0,>=2.13.0->spacy<3.8.0,>=3.7.2->en-core-web-lg==3.7.1) (3.7)\n",
            "Requirement already satisfied: urllib3<3,>=1.21.1 in /usr/local/lib/python3.10/dist-packages (from requests<3.0.0,>=2.13.0->spacy<3.8.0,>=3.7.2->en-core-web-lg==3.7.1) (2.0.7)\n",
            "Requirement already satisfied: certifi>=2017.4.17 in /usr/local/lib/python3.10/dist-packages (from requests<3.0.0,>=2.13.0->spacy<3.8.0,>=3.7.2->en-core-web-lg==3.7.1) (2024.6.2)\n",
            "Requirement already satisfied: blis<0.8.0,>=0.7.8 in /usr/local/lib/python3.10/dist-packages (from thinc<8.3.0,>=8.2.2->spacy<3.8.0,>=3.7.2->en-core-web-lg==3.7.1) (0.7.11)\n",
            "Requirement already satisfied: confection<1.0.0,>=0.0.1 in /usr/local/lib/python3.10/dist-packages (from thinc<8.3.0,>=8.2.2->spacy<3.8.0,>=3.7.2->en-core-web-lg==3.7.1) (0.1.5)\n",
            "Requirement already satisfied: click>=8.0.0 in /usr/local/lib/python3.10/dist-packages (from typer<1.0.0,>=0.3.0->spacy<3.8.0,>=3.7.2->en-core-web-lg==3.7.1) (8.1.7)\n",
            "Requirement already satisfied: shellingham>=1.3.0 in /usr/local/lib/python3.10/dist-packages (from typer<1.0.0,>=0.3.0->spacy<3.8.0,>=3.7.2->en-core-web-lg==3.7.1) (1.5.4)\n",
            "Requirement already satisfied: rich>=10.11.0 in /usr/local/lib/python3.10/dist-packages (from typer<1.0.0,>=0.3.0->spacy<3.8.0,>=3.7.2->en-core-web-lg==3.7.1) (13.7.1)\n",
            "Requirement already satisfied: cloudpathlib<1.0.0,>=0.7.0 in /usr/local/lib/python3.10/dist-packages (from weasel<0.5.0,>=0.1.0->spacy<3.8.0,>=3.7.2->en-core-web-lg==3.7.1) (0.18.1)\n",
            "Requirement already satisfied: smart-open<8.0.0,>=5.2.1 in /usr/local/lib/python3.10/dist-packages (from weasel<0.5.0,>=0.1.0->spacy<3.8.0,>=3.7.2->en-core-web-lg==3.7.1) (7.0.4)\n",
            "Requirement already satisfied: MarkupSafe>=2.0 in /usr/local/lib/python3.10/dist-packages (from jinja2->spacy<3.8.0,>=3.7.2->en-core-web-lg==3.7.1) (2.1.5)\n",
            "Requirement already satisfied: marisa-trie>=0.7.7 in /usr/local/lib/python3.10/dist-packages (from language-data>=1.2->langcodes<4.0.0,>=3.2.0->spacy<3.8.0,>=3.7.2->en-core-web-lg==3.7.1) (1.2.0)\n",
            "Requirement already satisfied: markdown-it-py>=2.2.0 in /usr/local/lib/python3.10/dist-packages (from rich>=10.11.0->typer<1.0.0,>=0.3.0->spacy<3.8.0,>=3.7.2->en-core-web-lg==3.7.1) (3.0.0)\n",
            "Requirement already satisfied: pygments<3.0.0,>=2.13.0 in /usr/local/lib/python3.10/dist-packages (from rich>=10.11.0->typer<1.0.0,>=0.3.0->spacy<3.8.0,>=3.7.2->en-core-web-lg==3.7.1) (2.16.1)\n",
            "Requirement already satisfied: wrapt in /usr/local/lib/python3.10/dist-packages (from smart-open<8.0.0,>=5.2.1->weasel<0.5.0,>=0.1.0->spacy<3.8.0,>=3.7.2->en-core-web-lg==3.7.1) (1.14.1)\n",
            "Requirement already satisfied: mdurl~=0.1 in /usr/local/lib/python3.10/dist-packages (from markdown-it-py>=2.2.0->rich>=10.11.0->typer<1.0.0,>=0.3.0->spacy<3.8.0,>=3.7.2->en-core-web-lg==3.7.1) (0.1.2)\n",
            "Installing collected packages: en-core-web-lg\n",
            "Successfully installed en-core-web-lg-3.7.1\n",
            "\u001b[38;5;2m✔ Download and installation successful\u001b[0m\n",
            "You can now load the package via spacy.load('en_core_web_lg')\n",
            "\u001b[38;5;3m⚠ Restart to reload dependencies\u001b[0m\n",
            "If you are in a Jupyter or Colab notebook, you may need to restart Python in\n",
            "order to load all the package's dependencies. You can do this by selecting the\n",
            "'Restart kernel' or 'Restart runtime' option.\n"
          ]
        }
      ]
    },
    {
      "metadata": {
        "id": "jzPVan-OAIw8"
      },
      "cell_type": "code",
      "source": [
        "# import packages\n",
        "import spacy\n",
        "import numpy as np\n",
        "import csv\n",
        "from sklearn.manifold import TSNE\n",
        "from sklearn import linear_model\n",
        "import matplotlib.pyplot as plt\n",
        "%matplotlib inline\n",
        "from IPython.display import clear_output"
      ],
      "execution_count": null,
      "outputs": []
    },
    {
      "metadata": {
        "id": "k9wiQz4BAuQT"
      },
      "cell_type": "code",
      "source": [
        "nlp = spacy.load('en_core_web_lg')  # load the English model"
      ],
      "execution_count": null,
      "outputs": []
    },
    {
      "metadata": {
        "id": "yfpycYEG2T3y"
      },
      "cell_type": "markdown",
      "source": [
        "### Word Similarity\n",
        "By representing words in vectors, we can use linear algebra and vector space models to analyze the relationship between words. One simple task is to calculate the cosine of two word vectors, namely the cosine similarity. This cosine similarity measures the semantic similarity of words. While the value ranges from -1 to 1, it is usually used in the non-negative space [0, 1] where 0 means 0 similarity and 1 means extremely similar or even identical."
      ]
    },
    {
      "metadata": {
        "id": "Qm-5ZI0gHp-w"
      },
      "cell_type": "markdown",
      "source": [
        "In order to calculate the cosine similarity between words, we have to know their vector representations first, which are provided by the Word2Vec model. In the spaCy English model, these vector representations (pretrained using Word2Vec) are already provided. All we need to do is to retrieve these words from the spaCy English model and we will have access to these vector representations. \\\\\n",
        "<br>\n",
        "![cosine_sim](https://engineering.aweber.com/wp-content/uploads/2013/02/4AUbj.png)"
      ]
    },
    {
      "metadata": {
        "id": "A-HL5bHMA3RE",
        "colab": {
          "base_uri": "https://localhost:8080/"
        },
        "outputId": "66145927-d5a4-4844-95d6-c4738a894802"
      },
      "cell_type": "code",
      "source": [
        "# retrieve words from the English model vocabulary\n",
        "cat = nlp.vocab['cat']\n",
        "dog = nlp.vocab['dog']\n",
        "car = nlp.vocab['car']\n",
        "\n",
        "# print the dimension of word vectors\n",
        "print('vector length:', len(cat.vector))\n",
        "\n",
        "# print the word vector\n",
        "print('cat:', cat.vector)"
      ],
      "execution_count": null,
      "outputs": [
        {
          "output_type": "stream",
          "name": "stdout",
          "text": [
            "vector length: 300\n",
            "cat: [ 3.7032e+00  4.1982e+00 -5.0002e+00 -1.1322e+01  3.1702e-02 -1.0255e+00\n",
            " -3.0870e+00 -3.7327e+00  5.3875e-01  3.5679e+00  6.9276e+00  1.5793e+00\n",
            "  5.1188e-01  3.1868e+00  6.1534e+00 -4.8941e+00 -2.9959e-01 -3.6276e+00\n",
            "  2.3825e+00 -1.4402e+00 -4.7577e+00  4.3607e+00 -4.9814e+00 -3.6672e+00\n",
            " -1.8052e+00 -2.1888e+00 -4.2875e+00  5.5712e+00 -5.2875e+00 -1.8346e+00\n",
            " -2.2015e+00 -7.7091e-01 -4.8260e+00  1.2464e+00 -1.7945e+00 -8.1280e+00\n",
            "  1.9994e+00  1.1413e+00  3.8032e+00 -2.8783e+00 -4.2136e-01 -4.4177e+00\n",
            "  7.7456e+00  4.9535e+00  1.7402e+00  1.8275e-01  2.4218e+00 -3.1496e+00\n",
            " -3.8057e-02 -2.9818e+00  8.3396e-01  1.1531e+01  3.5684e+00  2.5970e+00\n",
            " -2.8438e+00  3.2755e+00  4.5674e+00  3.2219e+00  3.4206e+00  1.1200e-01\n",
            "  1.0303e-01 -5.8396e+00  4.6370e-01  2.7750e+00 -5.3713e+00 -5.0247e+00\n",
            " -2.0212e+00  5.8772e-01  1.1569e+00  1.3224e+00  4.3994e+00  2.0444e+00\n",
            "  2.1343e+00 -1.9023e+00  2.1469e+00 -2.9085e+00  4.8429e-01 -3.3544e-01\n",
            "  1.4484e+00 -1.5770e+00 -1.1307e+00  2.8320e+00  6.2041e-01  3.7994e+00\n",
            " -3.1162e-01 -6.9221e+00  7.1342e+00  7.2441e+00 -8.9326e+00 -2.7927e+00\n",
            "  2.6613e-01  6.7547e-01  6.7293e+00 -5.8127e+00  3.1567e+00 -1.0634e+00\n",
            " -1.5733e+00  1.3534e+00  3.9218e-01 -8.7077e+00  3.4229e-02  3.3251e+00\n",
            "  4.6713e+00  1.1865e-02  9.8345e-01 -5.3206e-02 -9.1613e+00  6.0161e+00\n",
            " -2.2223e+00  2.5015e+00 -6.0702e-01 -3.6344e-02  7.1884e+00 -1.4431e+00\n",
            "  2.6156e+00 -1.0148e+00  4.1225e+00 -1.8472e+00  4.6292e+00 -2.6506e+00\n",
            " -1.8937e+00  4.1749e+00 -9.6644e+00 -2.4813e+00 -2.7637e+00 -1.0624e+00\n",
            "  3.5988e+00  4.9833e+00  6.4499e-01  2.5784e-01  9.8727e-01 -4.2485e+00\n",
            "  3.4272e-01 -2.2270e+00 -1.8957e+00  8.0796e-01 -2.0265e+00 -6.1828e+00\n",
            " -2.2378e+00  2.8216e+00 -2.0050e+00 -3.8924e+00 -2.9364e-01 -1.6128e+00\n",
            " -6.7874e-01 -1.9855e+00  1.8221e-01  2.1575e+00  4.9825e-01 -1.7326e+00\n",
            "  4.7886e+00  2.9904e+00  8.3447e-01 -4.7417e+00  2.4697e+00  1.3751e+00\n",
            "  4.5358e+00  6.5386e-01  5.5413e+00  2.3963e+00  1.0031e+00 -8.0664e-01\n",
            " -1.4126e+00  2.8689e+00 -8.7339e+00 -2.7457e+00 -3.1805e-01 -2.4484e-01\n",
            "  3.7117e+00 -1.8636e+00  2.9959e-01  6.5062e-02 -1.5682e+00  1.5876e+00\n",
            "  6.9224e-01 -6.7734e+00  3.1065e+00  2.3973e+00 -3.5138e+00  3.4460e+00\n",
            "  3.4252e+00 -5.1906e+00 -6.9372e-01  1.9435e+00 -1.5669e-01  1.9710e+00\n",
            "  8.7743e-01 -8.3110e+00 -4.0306e-01 -5.0165e+00 -5.6309e-02  4.9249e+00\n",
            " -7.1053e+00 -5.2338e+00  2.3535e+00 -2.5255e+00 -2.7785e+00  5.0149e+00\n",
            " -2.8405e+00 -1.8614e+00  2.8818e-03  1.3281e+00  1.0194e+00  3.5155e+00\n",
            "  2.7971e-01  1.3251e+00  1.4386e+00 -6.1719e-01 -2.6864e+00 -3.9613e+00\n",
            "  4.5749e+00 -1.0939e+00  1.3289e+00 -9.5484e-01 -5.4675e+00  2.1607e+00\n",
            "  5.0715e-01  1.4860e-01 -4.8571e+00 -2.2213e+00 -2.3498e-01 -4.2629e+00\n",
            " -8.7002e-01  3.3796e+00 -4.3989e+00  6.1047e+00  3.7927e+00 -6.0760e+00\n",
            "  3.1840e+00 -8.3104e-01 -5.4015e+00 -6.2916e+00  1.2497e+00  1.8026e+00\n",
            " -3.4535e+00 -2.1652e-01 -1.4958e+00  5.7946e-01  2.2505e+00  2.0868e+00\n",
            "  3.9621e-01  1.6076e+00  4.0635e+00 -3.4088e+00 -1.0590e+00 -3.6376e+00\n",
            "  2.0501e+00  1.4785e+00 -1.8906e+00 -2.6215e-01 -5.1386e+00  3.7029e+00\n",
            " -1.8151e+00 -3.2759e+00 -5.1866e+00  2.5485e-01 -4.5696e+00  1.0147e+01\n",
            " -3.0195e+00 -2.4640e+00  7.5459e-01 -5.6395e+00 -5.4095e+00 -2.4363e+00\n",
            " -4.3922e-01 -4.0911e+00 -3.5194e+00  1.8031e+00 -1.3644e-01  6.7990e+00\n",
            "  5.8461e+00  5.3452e-01  1.1042e+00  3.5698e+00  4.4668e+00 -2.4537e+00\n",
            " -2.1832e+00  1.5293e+00 -1.9414e+00 -8.8675e-02 -1.1825e+00 -3.9996e+00\n",
            "  2.8077e+00 -1.8000e+00  4.2545e+00 -1.3813e+00 -2.2921e+00  3.7889e+00\n",
            " -1.5837e+00 -7.2078e-01  4.7743e+00 -3.0923e+00  8.4709e+00  3.0132e-01\n",
            " -5.6173e+00 -5.4610e-01 -4.8459e+00  6.0303e+00 -6.9664e+00  3.1445e+00]\n"
          ]
        }
      ]
    },
    {
      "metadata": {
        "id": "CmpDwypeHSIy"
      },
      "cell_type": "markdown",
      "source": [
        "Try to retrieve some other words and check if they have the same dimension."
      ]
    },
    {
      "metadata": {
        "id": "NO5S4yX9hgZg",
        "colab": {
          "base_uri": "https://localhost:8080/"
        },
        "outputId": "7214135d-50f8-4a2a-d2ad-da0f408289bd"
      },
      "cell_type": "code",
      "source": [
        "# try your own words and check if they have the same dimension of the cat vector\n",
        "############# YOUR CODE HERE ################\n",
        "computer = nlp.vocab['computer']\n",
        "school = nlp.vocab['school']\n",
        "college = nlp.vocab['college']\n",
        "student = nlp.vocab['student']\n",
        "print(len(school.vector))\n",
        "print(len(college.vector))\n",
        "print(len(student.vector))\n",
        "print(len(computer.vector))"
      ],
      "execution_count": null,
      "outputs": [
        {
          "output_type": "stream",
          "name": "stdout",
          "text": [
            "300\n",
            "300\n",
            "300\n",
            "300\n"
          ]
        }
      ]
    },
    {
      "metadata": {
        "id": "-g5mO0AfIT94"
      },
      "cell_type": "markdown",
      "source": [
        "After retrieving the words and their vector representations, we can use the built-in similarity function (which implements cosine similarity) to calculate word similarity based on these vectors. Is 'cat' more similar to 'dog' than 'car'? Can you find some properties of cosine similarity?"
      ]
    },
    {
      "metadata": {
        "id": "lpxnslv1DB7e",
        "colab": {
          "base_uri": "https://localhost:8080/"
        },
        "outputId": "77d7e0cb-be00-4363-b424-d2fa2e7cd089"
      },
      "cell_type": "code",
      "source": [
        "# you can calculate the similarity between words using\n",
        "# the built-in 'similarity' function\n",
        "print('The similarity between cat and cat:', cat.similarity(cat))\n",
        "print('The similarity between cat and dog:', cat.similarity(dog))\n",
        "print('The similarity between dog and cat:', dog.similarity(cat))\n",
        "print('The similarity between cat and car:', cat.similarity(car))\n",
        "print('The similarity between dog and car:', dog.similarity(car))\n",
        "print('The similarity between college and school:', college.similarity(school))\n",
        "print('The similarity between college and student:', college.similarity(student))\n",
        "print('The similarity between school and computer:', school.similarity(computer))\n",
        "print('The similarity between school and student:', school.similarity(student))"
      ],
      "execution_count": null,
      "outputs": [
        {
          "output_type": "stream",
          "name": "stdout",
          "text": [
            "The similarity between cat and cat: 1.0\n",
            "The similarity between cat and dog: 0.8220816850662231\n",
            "The similarity between dog and cat: 0.8220816850662231\n",
            "The similarity between cat and car: 0.19698593020439148\n",
            "The similarity between dog and car: 0.3250025510787964\n",
            "The similarity between college and school: 0.7962756156921387\n",
            "The similarity between college and student: 0.7132945656776428\n",
            "The similarity between school and computer: 0.268675833940506\n",
            "The similarity between school and student: 0.6778514385223389\n"
          ]
        }
      ]
    },
    {
      "metadata": {
        "id": "pe1G8CvuIxIP"
      },
      "cell_type": "markdown",
      "source": [
        "Now let's try some other words. Also, try to calculate the cosine similarity between 'hotel' and 'motel' and the cosine similarity between 'hotel' and 'hospital'. Which one is more similar to 'hotel'? 'motel' or 'hospital'?"
      ]
    },
    {
      "metadata": {
        "id": "QALZbd0Jhjlf",
        "colab": {
          "base_uri": "https://localhost:8080/"
        },
        "outputId": "3ad089b5-918a-4110-ca02-516c2e2acde2"
      },
      "cell_type": "code",
      "source": [
        "# calculate the similarity of your own words using the built-in function\n",
        "############# YOUR CODE HERE ################\n",
        "hotel = nlp.vocab['hotel']\n",
        "motel = nlp.vocab['motel']\n",
        "hospital = nlp.vocab['hospital']\n",
        "\n",
        "# what is the similarity between (hotel, motel) and (hotel, hospital)\n",
        "############# YOUR CODE HERE ################\n",
        "print(hotel.similarity(motel))\n",
        "\n",
        "print(hotel.similarity(hospital))\n"
      ],
      "execution_count": null,
      "outputs": [
        {
          "output_type": "stream",
          "name": "stdout",
          "text": [
            "0.7972080111503601\n",
            "0.4250935912132263\n"
          ]
        }
      ]
    },
    {
      "metadata": {
        "id": "7jwt8kG5Kuof"
      },
      "cell_type": "markdown",
      "source": [
        "Let's compute the cosine similarity manually using its definition below. Then check if the result is the same as the one calculated by the built-in function. \\\\\n",
        "<br>\n",
        "$cosine\\_similarity(A, B) = \\frac{A \\cdot B}{\\left \\| A \\right \\|\\left \\| B \\right \\|}$"
      ]
    },
    {
      "metadata": {
        "id": "_3ZzlyeLhm3e",
        "colab": {
          "base_uri": "https://localhost:8080/"
        },
        "outputId": "fb6c1e8d-48c8-4185-bca7-cc1ba5db5062"
      },
      "cell_type": "code",
      "source": [
        "# try to calculate cosine similarity manually\n",
        "'''\n",
        "cosine of V1 and V2 = dot product of V1 and V2 / product of V1 norm and V2 norm\n",
        "To get the vector representation of a word, use .vector, e.g. car.vector\n",
        "To calculate the dot product of two vectors V1 and V2, use np.dot(V1, V2)\n",
        "To get the norm of a word vector, use .vector_norm, e.g. car.vector_norm,\n",
        "alternatively you can use np.linalg.norm(V1) to calculate the norm of V1\n",
        "'''\n",
        "############# YOUR CODE HERE ################\n",
        "cosine_dog_car = np.dot(dog.vector, car.vector)/(dog.vector_norm*car.vector_norm)\n",
        "print('The similarity between dog and car calculated manually:', cosine_dog_car)\n",
        "#############################################"
      ],
      "execution_count": null,
      "outputs": [
        {
          "output_type": "stream",
          "name": "stdout",
          "text": [
            "The similarity between dog and car calculated manually: 0.32500255\n"
          ]
        }
      ]
    },
    {
      "metadata": {
        "id": "Ma4PgQeaMZfM"
      },
      "cell_type": "markdown",
      "source": [
        "Now we know how to compare the similarity of two words using pretrained Word2Vec model. We can also use it to help us find semantically similar words, that is given a word retrieve similar words from the vocabulary. \\\\\n",
        "<br>\n",
        "The Python spaCy library hasn't provided such a function to do precisely this yet. We could use other NLP and machine learning libraries, such as [gensim](https://radimrehurek.com/gensim/), to do this with a simple function call. But the implementation is not hard, so let's give it a try! In our customized function, we first find all the words in our vocabulary (that has vector representations). Then we calculate the cosine similarity between our query word and each word in the vocabulary. We sort the similarity score in descending order. Finally, we retrieve the top n most similar words."
      ]
    },
    {
      "metadata": {
        "id": "j6dRHeE6KBq5"
      },
      "cell_type": "code",
      "source": [
        "# function to find similar words\n",
        "def most_similar(word, topn=10):\n",
        "    allwords = [w for w in nlp.vocab if w.has_vector and w.is_lower and w.lower_ != word.lower_]  # get all words in the vocabulary\n",
        "    by_similarity = sorted(allwords, key=lambda w: word.similarity(w), reverse=True)  # sort words by similarity in descending order\n",
        "    return by_similarity[:topn]"
      ],
      "execution_count": null,
      "outputs": []
    },
    {
      "metadata": {
        "id": "UCemJQbROBpi",
        "colab": {
          "base_uri": "https://localhost:8080/"
        },
        "outputId": "77632b7f-56e1-4ebd-f263-d86d3b96f82e"
      },
      "cell_type": "code",
      "source": [
        "# find similar words\n",
        "cat_similar = [w.text for w in most_similar(dog)]\n",
        "print('Similar words to cat: ', cat_similar)"
      ],
      "execution_count": null,
      "outputs": [
        {
          "output_type": "stream",
          "name": "stdout",
          "text": [
            "Similar words to cat:  ['cat', 'you', 'car', 'somethin’', 'lovin’', \"'cause\", 'lovin', 'she', \"somethin'\", 'it']\n"
          ]
        }
      ]
    },
    {
      "metadata": {
        "id": "CYclgBII2gc7"
      },
      "cell_type": "markdown",
      "source": [
        "### Word Analogy\n",
        "One interesting finding for the Word2Vec model is that it embeds some analogical relationships between words. \\\\\n",
        "<br>\n",
        "*Man is to Woman as King is to Queen* \\\\\n",
        "Man - Woman = King - Queen \\\\\n",
        "<br>\n",
        "*Paris is to France as Madrid is to Spain* \\\\\n",
        "Paris - France = Madrid - Spain \\\\\n",
        "<br>\n",
        "These relationships can be reconstructed using word embeddings. \\\\\n",
        "<br>\n",
        "![analogy](https://s3-ap-south-1.amazonaws.com/av-blog-media/wp-content/uploads/2017/06/06062705/Word-Vectors.png)"
      ]
    },
    {
      "metadata": {
        "id": "v6Xo9Prcfpoy"
      },
      "cell_type": "code",
      "source": [
        "# word analogy example\n",
        "# king is to man as what is to woman?\n",
        "king = nlp.vocab['king']\n",
        "man = nlp.vocab['man']\n",
        "woman = nlp.vocab['woman']\n",
        "\n",
        "# resulting vector\n",
        "result = king.vector - man.vector + woman.vector\n",
        "\n",
        "# function to compute cosine similarity\n",
        "cosine = lambda v1, v2: np.dot(v1, v2) / (np.linalg.norm(v1) * np.linalg.norm(v2))"
      ],
      "execution_count": null,
      "outputs": []
    },
    {
      "metadata": {
        "id": "vg_R5y2MyWFv",
        "colab": {
          "base_uri": "https://localhost:8080/",
          "height": 51
        },
        "outputId": "3cee2997-22d0-4590-d7df-6736b49fb872"
      },
      "cell_type": "code",
      "source": [
        "# what word does the 'result' vector closely correspond to?\n",
        "\n",
        "# we can first check if the 'result' vector is similar to the 'queen' vector\n",
        "############# YOUR CODE HERE ################\n",
        "queen = nlp.vocab['queen']\n",
        "print('Similarity between queen and result:', cosine(result, queen.vector))\n",
        "#############################################\n",
        "\n",
        "# find all words in our vocabulary (nlp.vocab),\n",
        "# make sure to just retrieve lower case words\n",
        "# and words that actually have vectors (.has_vector)\n",
        "# and filter out 'king', 'man', and 'woman'\n",
        "############# YOUR CODE HERE ################\n",
        "allwords = [w for w in nlp.vocab if w.has_vector and w.is_lower and w.lower_ != 'king' and w.lower_ != 'man' and w.lower_ != 'woman']\n",
        "#############################################\n",
        "\n",
        "# calculate the cosine similarity between the 'result' vector\n",
        "# and all word vectors in our vocabulary\n",
        "# sort by similarity and print out the most similar one\n",
        "############# YOUR CODE HERE ################\n",
        "candidates = sorted(allwords, key=lambda w: cosine(result, w.vector), reverse=True)\n",
        "print([c.text for c in candidates[:5]])"
      ],
      "execution_count": null,
      "outputs": [
        {
          "output_type": "stream",
          "text": [
            "Similarity between queen and result: 0.78808445\n",
            "['queen', 'prince', 'kings', 'princess', 'royal']\n"
          ],
          "name": "stdout"
        }
      ]
    },
    {
      "metadata": {
        "id": "dHDhFaO2VaFJ"
      },
      "cell_type": "markdown",
      "source": [
        "Let's try: \\\\\n",
        "Paris - France = Madrid - Spain"
      ]
    },
    {
      "metadata": {
        "id": "unaXunKv0Y0F",
        "colab": {
          "base_uri": "https://localhost:8080/"
        },
        "outputId": "38be051e-3260-41a9-f4ac-32add11c75aa"
      },
      "cell_type": "code",
      "source": [
        "# another example\n",
        "# Paris is to France as Madrid is to what?\n",
        "############# YOUR CODE HERE ################\n",
        "Paris = nlp.vocab['Paris']\n",
        "France = nlp.vocab['France']\n",
        "Madrid = nlp.vocab['Madrid']\n",
        "\n",
        "maybe_Spain = France.vector - Paris.vector + Madrid.vector\n",
        "\n",
        "allwords = [w for w in nlp.vocab if w.has_vector and w.lower_ != 'paris' and w.lower_ != 'madrid' and w.lower_ != 'france']\n",
        "candidates = sorted(allwords, key=lambda w: cosine(maybe_Spain, w.vector), reverse=True)\n",
        "print([c.text for c in candidates[:5]])\n",
        "#############################################"
      ],
      "execution_count": null,
      "outputs": [
        {
          "output_type": "stream",
          "name": "stdout",
          "text": [
            "['and', 'king', 'Colo', 'Calif', 'were']\n"
          ]
        }
      ]
    },
    {
      "metadata": {
        "id": "nFPYDPuX6thm"
      },
      "cell_type": "markdown",
      "source": [
        "### Sentence/Document Level Similarity\n",
        "Using word embeddings, we can also calculate similarity between sentences and documents. More advanced models such as Doc2Vec or neural networks can be used, but in this tutorial we will continue to use Word2Vec model to calculate document similarity. Since sentences and documents are composed of words, one easy way to obtain vector representations for sentences/documents is to calculate the average vectors of words. \\\\\n",
        "<br>\n",
        "Let's try to calculate the similarity among these three sentences:\n",
        "\n",
        "\n",
        "1.   Cats are beautiful animals.\n",
        "2.   Some gorgeous creatures are felines.\n",
        "3.   Dolphins are swimming mammals.\n",
        "\n"
      ]
    },
    {
      "metadata": {
        "id": "OiS9WQyG8zqG",
        "colab": {
          "base_uri": "https://localhost:8080/"
        },
        "outputId": "8f77bca2-1b71-47fe-cafa-eb20b4f28947"
      },
      "cell_type": "code",
      "source": [
        "# Word2Vec model does not provide vector representations for sentences\n",
        "# or documents. How is the similarity between sentences computed?\n",
        "# Since sentences are composed of words, an easy way to obtain the vector\n",
        "# representations of sentences is by averaging the vectors of each word in\n",
        "# the sentence.\n",
        "############# YOUR CODE HERE ################\n",
        "s1 = (nlp.vocab['Cats'].vector + nlp.vocab['are'].vector + nlp.vocab['beautiful'].vector + \\\n",
        "    nlp.vocab['animals'].vector + nlp.vocab['.'].vector)/5\n",
        "s2 = (nlp.vocab['Some'].vector + nlp.vocab['gorgeous'].vector + nlp.vocab['creatures'].vector + \\\n",
        "    nlp.vocab['are'].vector + nlp.vocab['felines'].vector + nlp.vocab['.'].vector)/6\n",
        "s3 = (nlp.vocab['Dolphins'].vector + nlp.vocab['are'].vector + nlp.vocab['swimming'].vector + \\\n",
        "    nlp.vocab['mammals'].vector + nlp.vocab['.'].vector)/5\n",
        "\n",
        "print(cosine(s1, s2))\n",
        "\n",
        "print(cosine(s1, s3))\n",
        "\n"
      ],
      "execution_count": null,
      "outputs": [
        {
          "output_type": "stream",
          "name": "stdout",
          "text": [
            "0.90675163\n",
            "0.9037428\n"
          ]
        }
      ]
    },
    {
      "metadata": {
        "id": "w_P6Ep9F67Lu",
        "colab": {
          "base_uri": "https://localhost:8080/"
        },
        "outputId": "a28a69e0-a5ba-4330-d6f3-b1f40a3f1638"
      },
      "cell_type": "code",
      "source": [
        "# spaCy also supports similarity calculation between sentences and documents\n",
        "target = nlp(\"Cats are beautiful animals.\")  # text about cats\n",
        "\n",
        "doc1 = nlp(\"Some gorgeous creatures are felines.\")  # text about cats\n",
        "doc2 = nlp(\"Dolphins are swimming mammals.\")  # text about dolphins\n",
        "\n",
        "print('Similarity between target and doc1:', target.similarity(doc1))\n",
        "print('Similarity between target and doc1:', target.similarity(doc2))"
      ],
      "execution_count": null,
      "outputs": [
        {
          "output_type": "stream",
          "name": "stdout",
          "text": [
            "Similarity between target and doc1: 0.9067517259890845\n",
            "Similarity between target and doc1: 0.9037427153904276\n"
          ]
        }
      ]
    },
    {
      "metadata": {
        "id": "YYs9_tHSFBhd"
      },
      "cell_type": "markdown",
      "source": [
        "### Word Embeddings Visualization\n",
        "Since the word vectors we use have 300 dimensions, we cannot visualize them. One natural way is to apply dimension reduction first and then visualize them. We use a popular dimension reduction technique called [t-SNE](https://lvdmaaten.github.io/tsne/) (you can also use PCA) to reduce the word vectors to 2D and then plot the words in our word analogy example to see if we can find some pattern visually. \\\\\n",
        "<br>\n",
        "An interactive visualization of word embeddings can be found here: \\\\\n",
        "[https://projector.tensorflow.org/](https://projector.tensorflow.org/)"
      ]
    },
    {
      "metadata": {
        "id": "HUnAim1BFH50",
        "colab": {
          "base_uri": "https://localhost:8080/",
          "height": 564
        },
        "outputId": "d74c3307-cfc5-4b43-c266-8f0f31c7696b"
      },
      "cell_type": "code",
      "source": [
        "from sklearn.manifold import TSNE\n",
        "import matplotlib.pyplot as plt\n",
        "import numpy as np\n",
        "\n",
        "# Random example vectors (replace with actual values if available)\n",
        "king_vector = np.random.rand(300)\n",
        "man_vector = np.random.rand(300)\n",
        "queen_vector = np.random.rand(300)\n",
        "woman_vector = np.random.rand(300)\n",
        "\n",
        "# Determine number of samples (n_samples)\n",
        "n_samples = 4  # Replace with actual number of samples in your data\n",
        "\n",
        "# Ensure perplexity is less than n_samples\n",
        "perplexity = min(30, n_samples - 1)  # Adjust perplexity as needed\n",
        "\n",
        "# Define t-SNE model with adjusted perplexity\n",
        "tsne_model = TSNE(n_components=2, perplexity=perplexity)\n",
        "\n",
        "# Prepare data\n",
        "data = np.array([king_vector, man_vector, queen_vector, woman_vector])\n",
        "\n",
        "# Perform dimensionality reduction\n",
        "data_2d = tsne_model.fit_transform(data)\n",
        "\n",
        "# Define labels\n",
        "labels = ['king', 'man', 'queen', 'woman']\n",
        "\n",
        "# Plot the 2D vectors and annotate with labels\n",
        "plt.figure(figsize=(8, 6))\n",
        "plt.scatter(data_2d[:, 0], data_2d[:, 1], s=100)\n",
        "for i, txt in enumerate(labels):\n",
        "    plt.annotate(txt, (data_2d[i, 0], data_2d[i, 1]), xytext=(2, 3), textcoords='offset points')\n",
        "plt.title('t-SNE Visualization of Random Vectors')\n",
        "plt.xlabel('t-SNE Component 1')\n",
        "plt.ylabel('t-SNE Component 2')\n",
        "plt.show()\n"
      ],
      "execution_count": null,
      "outputs": [
        {
          "output_type": "display_data",
          "data": {
            "text/plain": [
              "<Figure size 800x600 with 1 Axes>"
            ],
            "image/png": "[encoded data removed]"
          },
          "metadata": {}
        }
      ]
    },
    {
      "metadata": {
        "id": "XXzQ0M-OW0h0"
      },
      "cell_type": "markdown",
      "source": [
        "### Sentiment Analysis\n",
        "The major reason for coming up with word embedding models is that we want to use these embeddings which encode the word semantics to help us tackle problems related with natural language. \\\\\n",
        "<br>\n",
        "One such task is sentiment analysis. By analyzing the sentiment of texts, we want to understand whether a given sentence/document is positive or negative. For example, 'the weather is so nice today' has a positive sentiment whereas 'he is bored by the movie' has a negative sentiment. \\\\\n",
        "<br>\n",
        "In this tutorial, we want to use the word embeddings combined with a simple machine learning model ([logistic regression](http://scikit-learn.org/stable/modules/generated/sklearn.linear_model.LogisticRegression.html)) to do sentiment analysis. Logistic regression is a linear classification model and in our case we want to classify whether a given sentence is positive or negative. So it's a binary classification. \\\\\n",
        "<br>\n",
        "![logistic](https://rasbt.github.io/mlxtend/user_guide/classifier/SoftmaxRegression_files/logistic_regression_schematic.png)\n",
        "<br>\n",
        "Our training data contains 2,748 from Yelp reviews, IMDB movie reviews, and Amazon reviews. In the dataset, 1 means positive and 0 means negative. The original data can be downloaded from [here](https://www.kaggle.com/rahulin05/sentiment-labelled-sentences-data-set/data), the combined file can be downloaded from [here](https://drive.google.com/file/d/1knrjvDNkiXtviXBoLm5OJY45_kcCmDxe/view?usp=sharing)."
      ]
    },
    {
      "metadata": {
        "id": "8LliIw9nW4Fc",
        "colab": {
          "base_uri": "https://localhost:8080/",
          "height": 73
        },
        "outputId": "458c6004-967d-4611-ca76-8bfa2875f984"
      },
      "cell_type": "code",
      "source": [
        "# load files into the environment\n",
        "from google.colab import files\n",
        "uploaded = files.upload()"
      ],
      "execution_count": null,
      "outputs": [
        {
          "output_type": "display_data",
          "data": {
            "text/plain": [
              "<IPython.core.display.HTML object>"
            ],
            "text/html": [
              "\n",
              "     <input type=\"file\" id=\"files-6fe2b839-ab7a-4605-940b-d4c83b1704d0\" name=\"files[]\" multiple disabled\n",
              "        style=\"border:none\" />\n",
              "     <output id=\"result-6fe2b839-ab7a-4605-940b-d4c83b1704d0\">\n",
              "      Upload widget is only available when the cell has been executed in the\n",
              "      current browser session. Please rerun this cell to enable.\n",
              "      </output>\n",
              "      <script>// Copyright 2017 Google LLC\n",
              "//\n",
              "// Licensed under the Apache License, Version 2.0 (the \"License\");\n",
              "// you may not use this file except in compliance with the License.\n",
              "// You may obtain a copy of the License at\n",
              "//\n",
              "//      http://www.apache.org/licenses/LICENSE-2.0\n",
              "//\n",
              "// Unless required by applicable law or agreed to in writing, software\n",
              "// distributed under the License is distributed on an \"AS IS\" BASIS,\n",
              "// WITHOUT WARRANTIES OR CONDITIONS OF ANY KIND, either express or implied.\n",
              "// See the License for the specific language governing permissions and\n",
              "// limitations under the License.\n",
              "\n",
              "/**\n",
              " * @fileoverview Helpers for google.colab Python module.\n",
              " */\n",
              "(function(scope) {\n",
              "function span(text, styleAttributes = {}) {\n",
              "  const element = document.createElement('span');\n",
              "  element.textContent = text;\n",
              "  for (const key of Object.keys(styleAttributes)) {\n",
              "    element.style[key] = styleAttributes[key];\n",
              "  }\n",
              "  return element;\n",
              "}\n",
              "\n",
              "// Max number of bytes which will be uploaded at a time.\n",
              "const MAX_PAYLOAD_SIZE = 100 * 1024;\n",
              "\n",
              "function _uploadFiles(inputId, outputId) {\n",
              "  const steps = uploadFilesStep(inputId, outputId);\n",
              "  const outputElement = document.getElementById(outputId);\n",
              "  // Cache steps on the outputElement to make it available for the next call\n",
              "  // to uploadFilesContinue from Python.\n",
              "  outputElement.steps = steps;\n",
              "\n",
              "  return _uploadFilesContinue(outputId);\n",
              "}\n",
              "\n",
              "// This is roughly an async generator (not supported in the browser yet),\n",
              "// where there are multiple asynchronous steps and the Python side is going\n",
              "// to poll for completion of each step.\n",
              "// This uses a Promise to block the python side on completion of each step,\n",
              "// then passes the result of the previous step as the input to the next step.\n",
              "function _uploadFilesContinue(outputId) {\n",
              "  const outputElement = document.getElementById(outputId);\n",
              "  const steps = outputElement.steps;\n",
              "\n",
              "  const next = steps.next(outputElement.lastPromiseValue);\n",
              "  return Promise.resolve(next.value.promise).then((value) => {\n",
              "    // Cache the last promise value to make it available to the next\n",
              "    // step of the generator.\n",
              "    outputElement.lastPromiseValue = value;\n",
              "    return next.value.response;\n",
              "  });\n",
              "}\n",
              "\n",
              "/**\n",
              " * Generator function which is called between each async step of the upload\n",
              " * process.\n",
              " * @param {string} inputId Element ID of the input file picker element.\n",
              " * @param {string} outputId Element ID of the output display.\n",
              " * @return {!Iterable<!Object>} Iterable of next steps.\n",
              " */\n",
              "function* uploadFilesStep(inputId, outputId) {\n",
              "  const inputElement = document.getElementById(inputId);\n",
              "  inputElement.disabled = false;\n",
              "\n",
              "  const outputElement = document.getElementById(outputId);\n",
              "  outputElement.innerHTML = '';\n",
              "\n",
              "  const pickedPromise = new Promise((resolve) => {\n",
              "    inputElement.addEventListener('change', (e) => {\n",
              "      resolve(e.target.files);\n",
              "    });\n",
              "  });\n",
              "\n",
              "  const cancel = document.createElement('button');\n",
              "  inputElement.parentElement.appendChild(cancel);\n",
              "  cancel.textContent = 'Cancel upload';\n",
              "  const cancelPromise = new Promise((resolve) => {\n",
              "    cancel.onclick = () => {\n",
              "      resolve(null);\n",
              "    };\n",
              "  });\n",
              "\n",
              "  // Wait for the user to pick the files.\n",
              "  const files = yield {\n",
              "    promise: Promise.race([pickedPromise, cancelPromise]),\n",
              "    response: {\n",
              "      action: 'starting',\n",
              "    }\n",
              "  };\n",
              "\n",
              "  cancel.remove();\n",
              "\n",
              "  // Disable the input element since further picks are not allowed.\n",
              "  inputElement.disabled = true;\n",
              "\n",
              "  if (!files) {\n",
              "    return {\n",
              "      response: {\n",
              "        action: 'complete',\n",
              "      }\n",
              "    };\n",
              "  }\n",
              "\n",
              "  for (const file of files) {\n",
              "    const li = document.createElement('li');\n",
              "    li.append(span(file.name, {fontWeight: 'bold'}));\n",
              "    li.append(span(\n",
              "        `(${file.type || 'n/a'}) - ${file.size} bytes, ` +\n",
              "        `last modified: ${\n",
              "            file.lastModifiedDate ? file.lastModifiedDate.toLocaleDateString() :\n",
              "                                    'n/a'} - `));\n",
              "    const percent = span('0% done');\n",
              "    li.appendChild(percent);\n",
              "\n",
              "    outputElement.appendChild(li);\n",
              "\n",
              "    const fileDataPromise = new Promise((resolve) => {\n",
              "      const reader = new FileReader();\n",
              "      reader.onload = (e) => {\n",
              "        resolve(e.target.result);\n",
              "      };\n",
              "      reader.readAsArrayBuffer(file);\n",
              "    });\n",
              "    // Wait for the data to be ready.\n",
              "    let fileData = yield {\n",
              "      promise: fileDataPromise,\n",
              "      response: {\n",
              "        action: 'continue',\n",
              "      }\n",
              "    };\n",
              "\n",
              "    // Use a chunked sending to avoid message size limits. See b/62115660.\n",
              "    let position = 0;\n",
              "    do {\n",
              "      const length = Math.min(fileData.byteLength - position, MAX_PAYLOAD_SIZE);\n",
              "      const chunk = new Uint8Array(fileData, position, length);\n",
              "      position += length;\n",
              "\n",
              "      const base64 = btoa(String.fromCharCode.apply(null, chunk));\n",
              "      yield {\n",
              "        response: {\n",
              "          action: 'append',\n",
              "          file: file.name,\n",
              "          data: base64,\n",
              "        },\n",
              "      };\n",
              "\n",
              "      let percentDone = fileData.byteLength === 0 ?\n",
              "          100 :\n",
              "          Math.round((position / fileData.byteLength) * 100);\n",
              "      percent.textContent = `${percentDone}% done`;\n",
              "\n",
              "    } while (position < fileData.byteLength);\n",
              "  }\n",
              "\n",
              "  // All done.\n",
              "  yield {\n",
              "    response: {\n",
              "      action: 'complete',\n",
              "    }\n",
              "  };\n",
              "}\n",
              "\n",
              "scope.google = scope.google || {};\n",
              "scope.google.colab = scope.google.colab || {};\n",
              "scope.google.colab._files = {\n",
              "  _uploadFiles,\n",
              "  _uploadFilesContinue,\n",
              "};\n",
              "})(self);\n",
              "</script> "
            ]
          },
          "metadata": {}
        },
        {
          "output_type": "stream",
          "name": "stdout",
          "text": [
            "Saving combined_training.txt to combined_training.txt\n"
          ]
        }
      ]
    },
    {
      "metadata": {
        "id": "qGWb5845wEZZ",
        "colab": {
          "base_uri": "https://localhost:8080/"
        },
        "outputId": "2af83030-d8ec-45b3-badc-86997099dade"
      },
      "cell_type": "code",
      "source": [
        "# read data\n",
        "data_raw = []\n",
        "with open('combined_training.txt', newline='') as fr:\n",
        "    reader = csv.reader(fr, delimiter='\\t')\n",
        "    for row in reader:\n",
        "        data_raw.append([row[0], int(row[1])])\n",
        "\n",
        "# print the number of data\n",
        "print(len(data_raw))\n",
        "\n",
        "# print the last data item\n",
        "print(data_raw[-1])"
      ],
      "execution_count": null,
      "outputs": [
        {
          "output_type": "stream",
          "name": "stdout",
          "text": [
            "2748\n",
            "[\"Then, as if I hadn't wasted enough of my life there, they poured salt in the wound by drawing out the time it took to bring the check.\", 0]\n"
          ]
        }
      ]
    },
    {
      "metadata": {
        "id": "8U9GGTwFzTnE",
        "colab": {
          "base_uri": "https://localhost:8080/"
        },
        "outputId": "6485146e-3580-4116-8374-4f71639f0ee5"
      },
      "cell_type": "code",
      "source": [
        "x_train = np.array([nlp(d[0]).vector for d in data_raw])\n",
        "y_train = np.array([d[1] for d in data_raw])\n",
        "\n",
        "# print the dimension of x\n",
        "print(x_train.shape)\n",
        "\n",
        "# print the dimension of y\n",
        "print(y_train.shape)\n",
        "\n",
        "# double check\n",
        "print(nlp(data_raw[-1][0]).text, y_train[-1])"
      ],
      "execution_count": null,
      "outputs": [
        {
          "output_type": "stream",
          "name": "stdout",
          "text": [
            "(2748, 300)\n",
            "(2748,)\n",
            "Then, as if I hadn't wasted enough of my life there, they poured salt in the wound by drawing out the time it took to bring the check. 0\n"
          ]
        }
      ]
    },
    {
      "metadata": {
        "id": "VwSJnk0A15LB",
        "colab": {
          "base_uri": "https://localhost:8080/",
          "height": 213
        },
        "outputId": "f8562ca7-cc11-4e27-c4b3-01829333449e"
      },
      "cell_type": "code",
      "source": [
        "logreg = linear_model.LogisticRegression()\n",
        "logreg.fit(x_train, y_train)"
      ],
      "execution_count": null,
      "outputs": [
        {
          "output_type": "stream",
          "name": "stderr",
          "text": [
            "/usr/local/lib/python3.10/dist-packages/sklearn/linear_model/_logistic.py:458: ConvergenceWarning: lbfgs failed to converge (status=1):\n",
            "STOP: TOTAL NO. of ITERATIONS REACHED LIMIT.\n",
            "\n",
            "Increase the number of iterations (max_iter) or scale the data as shown in:\n",
            "    https://scikit-learn.org/stable/modules/preprocessing.html\n",
            "Please also refer to the documentation for alternative solver options:\n",
            "    https://scikit-learn.org/stable/modules/linear_model.html#logistic-regression\n",
            "  n_iter_i = _check_optimize_result(\n"
          ]
        },
        {
          "output_type": "execute_result",
          "data": {
            "text/plain": [
              "LogisticRegression()"
            ],
            "text/html": [
              "<style>#sk-container-id-1 {color: black;background-color: white;}#sk-container-id-1 pre{padding: 0;}#sk-container-id-1 div.sk-toggleable {background-color: white;}#sk-container-id-1 label.sk-toggleable__label {cursor: pointer;display: block;width: 100%;margin-bottom: 0;padding: 0.3em;box-sizing: border-box;text-align: center;}#sk-container-id-1 label.sk-toggleable__label-arrow:before {content: \"▸\";float: left;margin-right: 0.25em;color: #696969;}#sk-container-id-1 label.sk-toggleable__label-arrow:hover:before {color: black;}#sk-container-id-1 div.sk-estimator:hover label.sk-toggleable__label-arrow:before {color: black;}#sk-container-id-1 div.sk-toggleable__content {max-height: 0;max-width: 0;overflow: hidden;text-align: left;background-color: #f0f8ff;}#sk-container-id-1 div.sk-toggleable__content pre {margin: 0.2em;color: black;border-radius: 0.25em;background-color: #f0f8ff;}#sk-container-id-1 input.sk-toggleable__control:checked~div.sk-toggleable__content {max-height: 200px;max-width: 100%;overflow: auto;}#sk-container-id-1 input.sk-toggleable__control:checked~label.sk-toggleable__label-arrow:before {content: \"▾\";}#sk-container-id-1 div.sk-estimator input.sk-toggleable__control:checked~label.sk-toggleable__label {background-color: #d4ebff;}#sk-container-id-1 div.sk-label input.sk-toggleable__control:checked~label.sk-toggleable__label {background-color: #d4ebff;}#sk-container-id-1 input.sk-hidden--visually {border: 0;clip: rect(1px 1px 1px 1px);clip: rect(1px, 1px, 1px, 1px);height: 1px;margin: -1px;overflow: hidden;padding: 0;position: absolute;width: 1px;}#sk-container-id-1 div.sk-estimator {font-family: monospace;background-color: #f0f8ff;border: 1px dotted black;border-radius: 0.25em;box-sizing: border-box;margin-bottom: 0.5em;}#sk-container-id-1 div.sk-estimator:hover {background-color: #d4ebff;}#sk-container-id-1 div.sk-parallel-item::after {content: \"\";width: 100%;border-bottom: 1px solid gray;flex-grow: 1;}#sk-container-id-1 div.sk-label:hover label.sk-toggleable__label {background-color: #d4ebff;}#sk-container-id-1 div.sk-serial::before {content: \"\";position: absolute;border-left: 1px solid gray;box-sizing: border-box;top: 0;bottom: 0;left: 50%;z-index: 0;}#sk-container-id-1 div.sk-serial {display: flex;flex-direction: column;align-items: center;background-color: white;padding-right: 0.2em;padding-left: 0.2em;position: relative;}#sk-container-id-1 div.sk-item {position: relative;z-index: 1;}#sk-container-id-1 div.sk-parallel {display: flex;align-items: stretch;justify-content: center;background-color: white;position: relative;}#sk-container-id-1 div.sk-item::before, #sk-container-id-1 div.sk-parallel-item::before {content: \"\";position: absolute;border-left: 1px solid gray;box-sizing: border-box;top: 0;bottom: 0;left: 50%;z-index: -1;}#sk-container-id-1 div.sk-parallel-item {display: flex;flex-direction: column;z-index: 1;position: relative;background-color: white;}#sk-container-id-1 div.sk-parallel-item:first-child::after {align-self: flex-end;width: 50%;}#sk-container-id-1 div.sk-parallel-item:last-child::after {align-self: flex-start;width: 50%;}#sk-container-id-1 div.sk-parallel-item:only-child::after {width: 0;}#sk-container-id-1 div.sk-dashed-wrapped {border: 1px dashed gray;margin: 0 0.4em 0.5em 0.4em;box-sizing: border-box;padding-bottom: 0.4em;background-color: white;}#sk-container-id-1 div.sk-label label {font-family: monospace;font-weight: bold;display: inline-block;line-height: 1.2em;}#sk-container-id-1 div.sk-label-container {text-align: center;}#sk-container-id-1 div.sk-container {/* jupyter's `normalize.less` sets `[hidden] { display: none; }` but bootstrap.min.css set `[hidden] { display: none !important; }` so we also need the `!important` here to be able to override the default hidden behavior on the sphinx rendered scikit-learn.org. See: https://github.com/scikit-learn/scikit-learn/issues/21755 */display: inline-block !important;position: relative;}#sk-container-id-1 div.sk-text-repr-fallback {display: none;}</style><div id=\"sk-container-id-1\" class=\"sk-top-container\"><div class=\"sk-text-repr-fallback\"><pre>LogisticRegression()</pre><b>In a Jupyter environment, please rerun this cell to show the HTML representation or trust the notebook. <br />On GitHub, the HTML representation is unable to render, please try loading this page with nbviewer.org.</b></div><div class=\"sk-container\" hidden><div class=\"sk-item\"><div class=\"sk-estimator sk-toggleable\"><input class=\"sk-toggleable__control sk-hidden--visually\" id=\"sk-estimator-id-1\" type=\"checkbox\" checked><label for=\"sk-estimator-id-1\" class=\"sk-toggleable__label sk-toggleable__label-arrow\">LogisticRegression</label><div class=\"sk-toggleable__content\"><pre>LogisticRegression()</pre></div></div></div></div></div>"
            ]
          },
          "metadata": {},
          "execution_count": 28
        }
      ]
    },
    {
      "metadata": {
        "id": "OTXDcQRq2JHF",
        "colab": {
          "base_uri": "https://localhost:8080/"
        },
        "outputId": "01c0fb2f-350d-4de5-aa14-904c1505dbe2"
      },
      "cell_type": "code",
      "source": [
        "# predict using trained model\n",
        "predict = logreg.predict(np.array([nlp('the weather today is pleasant').vector, nlp('the food in this restaurant is beyond my expectation').vector]))\n",
        "print(predict)"
      ],
      "execution_count": null,
      "outputs": [
        {
          "output_type": "stream",
          "name": "stdout",
          "text": [
            "[1 0]\n"
          ]
        }
      ]
    }
  ]
}