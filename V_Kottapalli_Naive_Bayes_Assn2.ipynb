{
  "nbformat": 4,
  "nbformat_minor": 0,
  "metadata": {
    "colab": {
      "provenance": [],
      "authorship_tag": "ABX9TyNaYbdww9QjyA6JWYZk/etS",
      "include_colab_link": true
    },
    "kernelspec": {
      "name": "python3",
      "display_name": "Python 3"
    },
    "language_info": {
      "name": "python"
    }
  },
  "cells": [
    {
      "cell_type": "markdown",
      "metadata": {
        "id": "view-in-github",
        "colab_type": "text"
      },
      "source": [
        "<a href=\"https://colab.research.google.com/github/Venkatalakshmikottapalli/NLP/blob/main/V_Kottapalli_Naive_Bayes_Assn2.ipynb\" target=\"_parent\"><img src=\"https://colab.research.google.com/assets/colab-badge.svg\" alt=\"Open In Colab\"/></a>"
      ]
    },
    {
      "cell_type": "markdown",
      "source": [
        "##Assignment 3 Naive Bayes and Sentiment Classification and Logistic Regression\n",
        "\n",
        "#### Introduction :\n",
        "\n",
        "Text classification is a fundamental task in Natural Language Processing (NLP) and machine learning, encompassing applications such as sentiment analysis, spam detection, and topic modeling. Two primary algorithms used for text classification are Naive Bayes and logistic regression.\n",
        "\n",
        "Naive Bayes is a probabilistic generative model that assumes independence among features (words in this context) given the class label. This approach, often termed the \"bag-of-words\" model, treats each word occurrence independently and calculates probabilities based on their frequencies. Despite ignoring word order and context, Naive Bayes can effectively categorize documents, such as distinguishing between spam and non-spam emails.\n",
        "\n",
        "In contrast, logistic regression is a discriminative model that learns directly from feature inputs to predict class labels. It does not assume feature independence and can capture more complex relationships between features.\n",
        "\n",
        "For this assignment, we will utilize a dataset of labeled spam and non-spam emails to train and evaluate both Naive Bayes and logistic regression models. The goal is to predict the class of new documents, demonstrating the effectiveness of these algorithms in real-world text classification tasks."
      ],
      "metadata": {
        "id": "aXy-XUBhwdAc"
      }
    },
    {
      "cell_type": "code",
      "execution_count": null,
      "metadata": {
        "id": "mYJo_Dgm4jBf"
      },
      "outputs": [],
      "source": [
        "# Import the libraries\n",
        "import pandas as pd\n",
        "import numpy as np\n",
        "from os import makedirs, path, remove, rename, rmdir\n",
        "from tarfile import open as open_tar\n",
        "from shutil import rmtree\n",
        "from urllib import request, parse\n",
        "from glob import glob\n",
        "from os import path\n",
        "from re import sub\n",
        "from email import message_from_file\n",
        "from glob import glob\n",
        "from sklearn.model_selection import StratifiedShuffleSplit\n",
        "from collections import defaultdict\n",
        "from functools import partial\n",
        "from sklearn.metrics import (accuracy_score, f1_score, precision_score, recall_score)\n",
        "from sklearn.model_selection import cross_val_predict\n",
        "from sklearn.neighbors import KNeighborsClassifier\n",
        "import gc"
      ]
    },
    {
      "cell_type": "code",
      "source": [
        "def download_corpus(dataset_dir: str = 'data'):\n",
        "    base_url = 'https://spamassassin.apache.org'\n",
        "    corpus_path = 'old/publiccorpus'\n",
        "    files = {\n",
        "        '20021010_easy_ham.tar.bz2': 'ham',\n",
        "        '20021010_hard_ham.tar.bz2': 'ham',\n",
        "        '20021010_spam.tar.bz2': 'spam',\n",
        "        '20030228_easy_ham.tar.bz2': 'ham',\n",
        "        '20030228_easy_ham_2.tar.bz2': 'ham',\n",
        "        '20030228_hard_ham.tar.bz2': 'ham',\n",
        "        '20030228_spam.tar.bz2': 'spam',\n",
        "        '20030228_spam_2.tar.bz2': 'spam',\n",
        "        '20050311_spam_2.tar.bz2': 'spam' }\n",
        "\n",
        "    #creates the folders: downloads, ham and spam\n",
        "    downloads_dir = path.join(dataset_dir, 'downloads')\n",
        "    ham_dir = path.join(dataset_dir, 'ham')\n",
        "    spam_dir = path.join(dataset_dir, 'spam')\n",
        "\n",
        "    makedirs(downloads_dir, exist_ok=True)\n",
        "    makedirs(ham_dir, exist_ok=True)\n",
        "    makedirs(spam_dir, exist_ok=True)\n",
        "\n",
        "\n",
        "    for file, spam_or_ham in files.items():\n",
        "        # download files from URL of each specific .bz2 file\n",
        "        url = parse.urljoin(base_url, f'{corpus_path}/{file}')\n",
        "        #The above statement create the url similar to below\n",
        "        #https://spamassassin.apache.org/old/publiccorpus/20021010_easy_ham.tar.bz2\n",
        "        tar_filename = path.join(downloads_dir, file)\n",
        "        #data/downloads/20021010_easy_ham.tar.bz2\n",
        "        request.urlretrieve(url, tar_filename)\n",
        "\n",
        "        #list e-mails in the compressed .bz2 file\n",
        "        emails = []\n",
        "        with open_tar(tar_filename) as tar:\n",
        "            tar.extractall(path=downloads_dir)\n",
        "            for tarinfo in tar:\n",
        "                 # tarinfo.name contains the 'directory/filename'. When split by '/',\n",
        "                # if the resulting list has more than one element, it indicates\n",
        "                # that the item is an email file located in a directory.\n",
        "                if len(tarinfo.name.split('/')) > 1:\n",
        "                    emails.append(tarinfo.name)\n",
        "\n",
        "        # move e-mails to ham or spam directory\n",
        "        for email in emails:\n",
        "            # split the path to get directory and filename\n",
        "            directory, filename = email.split('/')\n",
        "            # Create the full path to the directory where the email was extracted\n",
        "            directory = path.join(downloads_dir, directory)\n",
        "            # Check if the email file does not already exist in the target directory (ham or spam)\n",
        "            if not path.exists(path.join(dataset_dir, spam_or_ham, filename)):\n",
        "                # Move the email file from the extracted directory to the target directory (ham or spam)\n",
        "                rename(path.join(directory, filename),\n",
        "                   path.join(dataset_dir, spam_or_ham, filename))\n",
        "\n",
        "        # Remove the extracted directory after moving all emails\n",
        "        rmtree(directory)\n",
        "\n",
        "# Call the function\n",
        "download_corpus()"
      ],
      "metadata": {
        "id": "WVKEEnoG5MFv"
      },
      "execution_count": null,
      "outputs": []
    },
    {
      "cell_type": "markdown",
      "source": [
        "##### Comment:\n",
        "- First defined a fucntion download_corpus in which base_url and corpus_path define the base URL and the path to the corpus files on the SpamAssassin website.\n",
        "- files is a dictionary where the keys are the names of the tar.bz2 files to download, and the values indicate whether the files contain 'ham' (non-spam) or 'spam'.\n",
        "- downloads_dir, ham_dir, and spam_dir are paths to directories where the downloaded files and extracted emails will be stored.\n",
        "makedirs creates these directories if they do not already exist.\n",
        "- A loop iterates over each file in the files dictionary.\n",
        "For each file, the full URL is constructed, and the local path will be saved is specified.\n",
        "- The file is then downloaded from the URL and saved to the specified local path.\n",
        "- After that an empty list created and the loop iterates through each file in the tar archive, and if the file is within a subdirectory, it is added to the emails list.\n",
        "- Now another loop iterates over the emails and split the directories and file names\n",
        "- The email file is moved from the downloads_dir to either the ham or spam directory, based on its classification.\n",
        "- now-empty directory is removed after all emails have been moved.\n",
        "- Finally called the function"
      ],
      "metadata": {
        "id": "FAbIHL_J2QAq"
      }
    },
    {
      "cell_type": "code",
      "source": [
        "# How many e-mails are classified in our dataset as either Spam or not Spam?\n",
        "ham_dir = path.join('data', 'ham')\n",
        "spam_dir = path.join('data', 'spam')\n",
        "\n",
        "print('Number of Non-Spam E-mails:', len(glob(f'{ham_dir}/*')))\n",
        "print('\\nNumber of Spam E-mails:', len(glob(f'{spam_dir}/*')))"
      ],
      "metadata": {
        "colab": {
          "base_uri": "https://localhost:8080/"
        },
        "id": "VbyrBiKf6BY1",
        "outputId": "eb4914a0-6f42-41a6-880d-880bedd65a03"
      },
      "execution_count": null,
      "outputs": [
        {
          "output_type": "stream",
          "name": "stdout",
          "text": [
            "Number of Non-Spam E-mails: 6952\n",
            "\n",
            "Number of Spam E-mails: 2399\n"
          ]
        }
      ]
    },
    {
      "cell_type": "markdown",
      "source": [
        "#### Comment:\n",
        "- ham_dir = path.join('data', 'ham'): Defines the directory path for non-spam (ham) emails located within the 'data' folder.\n",
        "- spam_dir = path.join('data', 'spam'): Defines the directory path for spam emails located within the 'data' folder."
      ],
      "metadata": {
        "id": "qhs1IGm6s9gS"
      }
    },
    {
      "cell_type": "code",
      "source": [
        "# Import the libraries\n",
        "import numpy as np\n",
        "import os\n",
        "from sklearn.feature_extraction.text import CountVectorizer\n",
        "from sklearn.naive_bayes import MultinomialNB\n",
        "from sklearn.model_selection import train_test_split\n",
        "from sklearn.metrics import accuracy_score\n",
        "from sklearn.linear_model import LogisticRegression\n",
        "from sklearn.metrics import accuracy_score, precision_score, recall_score, f1_score\n",
        "\n",
        "\n",
        "# Define a function to load emails from a directory\n",
        "def load_emails(directory):\n",
        "    emails = []\n",
        "    for filename in glob(os.path.join(directory, '*')):\n",
        "        with open(filename, 'r', encoding='latin1') as f:\n",
        "            msg = message_from_file(f)\n",
        "            emails.append(str(msg.get_payload()))\n",
        "    return emails\n",
        "# Load dataset\n",
        "ham_emails = load_emails(ham_dir)\n",
        "spam_emails = load_emails(spam_dir)\n",
        "\n",
        "emails = ham_emails + spam_emails\n",
        "labels = ['ham'] * len(ham_emails) + ['spam'] * len(spam_emails)\n",
        "\n",
        "# Split the data\n",
        "X_train, X_test, y_train, y_test = train_test_split(emails, labels, test_size=0.2, random_state=42, stratify=labels)\n",
        "\n",
        "# Vectorize the text data\n",
        "vectorizer = CountVectorizer()\n",
        "X_train_counts = vectorizer.fit_transform(X_train)\n",
        "X_test_counts = vectorizer.transform(X_test)\n",
        "\n",
        "# Train Naive Bayes classifier\n",
        "clf = MultinomialNB()\n",
        "clf.fit(X_train_counts, y_train)\n",
        "\n",
        "# Step 3: Train Logistic Regression model\n",
        "log_model = LogisticRegression(max_iter=2000)\n",
        "log_model.fit(X_train_counts, y_train)\n",
        "\n",
        "\n",
        "# Step 4: Evaluate the models\n",
        "def evaluate_model(model, X_test_counts, y_test):\n",
        "    y_pred = model.predict(X_test_counts)\n",
        "    accuracy = accuracy_score(y_test, y_pred)\n",
        "    return accuracy\n",
        "\n",
        "# Evaluate Naive Bayes\n",
        "naive_evaluation = evaluate_model(clf, X_test_counts, y_test)\n",
        "print(f'Naive Bayes Accuracy: {naive_evaluation:.2f}')\n",
        "\n",
        "# Evaluate Logistic Regression\n",
        "logistic_evaluation = evaluate_model(log_model, X_test_counts, y_test)\n",
        "print(f'Logistic Regression Accuracy: {logistic_evaluation:.2f}')"
      ],
      "metadata": {
        "colab": {
          "base_uri": "https://localhost:8080/"
        },
        "id": "GbfDQnbs_g0e",
        "outputId": "0a2c817e-b701-4d04-e590-53e36877904f"
      },
      "execution_count": null,
      "outputs": [
        {
          "output_type": "stream",
          "name": "stdout",
          "text": [
            "Naive Bayes Accuracy: 0.95\n",
            "Logistic Regression Accuracy: 0.98\n"
          ]
        }
      ]
    },
    {
      "cell_type": "markdown",
      "source": [
        "#### Comment:\n",
        "- Imported the necessary libraries\n",
        "- Defined a function loads_emails. It initializes an empty list\n",
        "- Loop through each file in the specified directory. The glob function generates a list of file paths that match the specified pattern (all files in the directory)\n",
        "- Open each file in read mode with 'latin1' encoding to handle a wide range of characters. 'latin1' is used here because it can handle more types of characters without raising an encoding error.\n",
        "- after that it will read the content of the file as an email message object using the email library's message_from_file function.\n",
        "- and convert the payload (the main content of the email) to a string and append it to the emails list.\n",
        "- ham_emails calls the load_emails function with ham_dir directoy\n",
        "- spam_emails calls the load_emails function with spam_dir directory\n",
        "- The emails list contains all the email texts, combining both ham and spam emails.\n",
        "- The labels list contains corresponding labels ('ham' or 'spam') for each email in the emails list and return it.\n",
        "\n",
        "After that\n",
        "- Split the data into training and testing sets, with 20% of the data reserved for testing.\n",
        "- Create an instance of CountVectorizer, which will convert text data into a matrix of token counts.\n",
        "- Fit the CountVectorizer to the training data and transform the training data into a matrix of token counts.\n",
        "- Transform the test data into a matrix of token counts using the already fitted CountVectorizer.\n",
        "- Create an instance of the Multinomial Naive Bayes classifier.\n",
        "- Train the Naive Bayes classifier using the training data and labels.\n",
        "- Create an instance of the Logistic Regression model with a maximum of 2000 iterations to ensure convergence.\n",
        "- Train the Logistic Regression model using the training data and labels.\n",
        "- The evaluate_model function measures and returns the accuracy of a given model's predictions on test data.\n",
        "- Evaluate the Naive Bayes classifier using the test data and store the results and print it.\n",
        "- Evaluate the Logistic Regression model using the test data and store the results and print it.\n"
      ],
      "metadata": {
        "id": "tW-_LXuFdz4G"
      }
    },
    {
      "cell_type": "markdown",
      "source": [
        "#### The following email is a test email. You can take this and test your classifier to see if it predicts spam or not.\n"
      ],
      "metadata": {
        "id": "XfCLtOlrFBLV"
      }
    },
    {
      "cell_type": "markdown",
      "source": [],
      "metadata": {
        "id": "Psm1zrgIiX86"
      }
    },
    {
      "cell_type": "code",
      "source": [
        "# Test email\n",
        "spam_email = \"\"\"\n",
        "Subject: Get Rich Quick!\n",
        "\n",
        "Dear Friend,\n",
        "\n",
        "Congratulations! You've been selected to participate in an exclusive opportunity to make thousands of dollars from the comfort of your own home. Our revolutionary system guarantees quick and easy cash with minimal effort.\n",
        "\n",
        "No more struggling to pay bills or worrying about financial security. With our proven method, you can start earning massive amounts of money in no time.\n",
        "\n",
        "Here's what some of our satisfied customers have to say:\n",
        "- \"I was skeptical at first, but I'm now living my dream life thanks to this incredible system!\" - John S.\n",
        "- \"I never thought making money online could be this simple. It's changed my life!\" - Sarah L.\n",
        "\n",
        "Don't miss out on this limited-time offer. Act now to secure your spot and start enjoying a life of financial freedom.\n",
        "\n",
        "Click the link below to get started:\n",
        "www.getrichquick.com\n",
        "\n",
        "Remember, this opportunity is exclusive and won't last long. Take control of your financial future today!\n",
        "\n",
        "Best regards,\n",
        "The Get Rich Quick Team\n",
        "\"\"\"\n"
      ],
      "metadata": {
        "id": "3-7BsVSY6B5Y"
      },
      "execution_count": null,
      "outputs": []
    },
    {
      "cell_type": "code",
      "source": [
        "# Vectorize the spam email\n",
        "X_spam = vectorizer.transform([spam_email])\n",
        "\n",
        "# Predict with the classifier\n",
        "Naive_classifier_prediction = clf.predict(X_spam)\n",
        "\n",
        "# Predict with the logistic regression\n",
        "logistic_regression_prediction = log_model.predict(X_spam)\n",
        "\n",
        "# Print the prediction\n",
        "print(f'By using Naive bayes classifier the email is predicted as: {Naive_classifier_prediction[0]}')\n",
        "print(f'By using Logistic regression model the email is predicted as: {logistic_regression_prediction[0]}')"
      ],
      "metadata": {
        "colab": {
          "base_uri": "https://localhost:8080/"
        },
        "id": "G9jdUdthF6ox",
        "outputId": "597cd4cc-9a8e-40e6-8020-f389ddd0b024"
      },
      "execution_count": null,
      "outputs": [
        {
          "output_type": "stream",
          "name": "stdout",
          "text": [
            "By using Naive bayes classifier the email is predicted as: spam\n",
            "By using Logistic regression model the email is predicted as: spam\n"
          ]
        }
      ]
    },
    {
      "cell_type": "markdown",
      "source": [
        "##### Comment:\n",
        "- The spam email converts into numerical features using 'Count vectorizer'\n",
        "- now the numerical features are input into the trained naive bayes classifier to get predictions\n",
        "- finally printed the prediction"
      ],
      "metadata": {
        "id": "SAo2GYc5aGid"
      }
    },
    {
      "cell_type": "markdown",
      "source": [
        "#### Conclusion:\n",
        "- Logistic regression achieved higher accuracy (98%) compared to Naive Bayes (95%) in classifying spam and non-spam emails. Both models correctly predicted the label of the test email as spam, showcasing their effectiveness in email classification tasks."
      ],
      "metadata": {
        "id": "tyqEDSqby34w"
      }
    }
  ]
}